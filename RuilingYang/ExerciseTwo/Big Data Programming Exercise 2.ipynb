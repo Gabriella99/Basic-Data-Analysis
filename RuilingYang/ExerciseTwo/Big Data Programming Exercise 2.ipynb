{
 "cells": [
  {
   "cell_type": "code",
   "execution_count": null,
   "metadata": {},
   "outputs": [],
   "source": [
    "GITRepoDirectory = \"/Users/yangruiling/Desktop/iftbigdatacoursework2019/RuilingYang/DMOBondPrices\""
   ]
  },
  {
   "cell_type": "code",
   "execution_count": null,
   "metadata": {},
   "outputs": [],
   "source": [
    "pip install Flask-SQLAlchemy"
   ]
  },
  {
   "cell_type": "code",
   "execution_count": null,
   "metadata": {},
   "outputs": [],
   "source": [
    "from sqlalchemy import create_engine\n",
    "import pandas as pd\n",
    "import numpy as np\n",
    "import datetime\n",
    "import matplotlib.pyplot as plt\n",
    "from pandas.plotting import register_matplotlib_converters\n",
    "from datetime import datetime \n",
    "from pandas import Series\n",
    "register_matplotlib_converters()"
   ]
  },
  {
   "cell_type": "code",
   "execution_count": null,
   "metadata": {},
   "outputs": [],
   "source": [
    "engine = create_engine(f\"sqlite:///{GITRepoDirectory}/BondPrice.db\")"
   ]
  },
  {
   "cell_type": "code",
   "execution_count": null,
   "metadata": {},
   "outputs": [],
   "source": [
    "con = engine.connect()"
   ]
  },
  {
   "cell_type": "code",
   "execution_count": null,
   "metadata": {},
   "outputs": [],
   "source": [
    "def BondStatic():\n",
    "    return (\"SELECT * FROM bond_static\")\n",
    "\n",
    "BondStatic = pd.read_sql_query(BondStatic(),engine)"
   ]
  },
  {
   "cell_type": "code",
   "execution_count": null,
   "metadata": {},
   "outputs": [],
   "source": [
    "BondStatic"
   ]
  },
  {
   "cell_type": "code",
   "execution_count": null,
   "metadata": {},
   "outputs": [],
   "source": [
    "BondStatic.index"
   ]
  },
  {
   "cell_type": "code",
   "execution_count": null,
   "metadata": {},
   "outputs": [],
   "source": [
    "print(BondStatic[\"issue_date\"])"
   ]
  },
  {
   "cell_type": "code",
   "execution_count": null,
   "metadata": {},
   "outputs": [],
   "source": [
    "def BondPrices():\n",
    "    return (\"SELECT * FROM bond_prices\")\n",
    "BondPrices = pd.read_sql_query(BondPrices(),engine)"
   ]
  },
  {
   "cell_type": "code",
   "execution_count": null,
   "metadata": {},
   "outputs": [],
   "source": [
    "type(BondPrices)"
   ]
  },
  {
   "cell_type": "code",
   "execution_count": null,
   "metadata": {},
   "outputs": [],
   "source": [
    "BondPrices"
   ]
  },
  {
   "cell_type": "code",
   "execution_count": null,
   "metadata": {},
   "outputs": [],
   "source": [
    "BondPrices.index"
   ]
  },
  {
   "cell_type": "code",
   "execution_count": null,
   "metadata": {},
   "outputs": [],
   "source": [
    "BondPrices['cob_date'] = pd.to_datetime(BondPrices['cob_date'])\n",
    "BondPrices.set_index(\"cob_date\", inplace=True)"
   ]
  },
  {
   "cell_type": "code",
   "execution_count": null,
   "metadata": {},
   "outputs": [],
   "source": [
    "BondPrices.index"
   ]
  },
  {
   "cell_type": "code",
   "execution_count": null,
   "metadata": {},
   "outputs": [],
   "source": [
    "BondPrices.head()"
   ]
  },
  {
   "cell_type": "code",
   "execution_count": null,
   "metadata": {},
   "outputs": [],
   "source": [
    "len(BondPrices.groupby('isin_id'))"
   ]
  },
  {
   "cell_type": "code",
   "execution_count": null,
   "metadata": {},
   "outputs": [],
   "source": [
    "mean_clean=BondPrices.groupby(\"isin_id\").apply(lambda x: np.mean(x.clean_price))\n",
    "var_clean=BondPrices.groupby('isin_id').apply(lambda x: np.var(x.clean_price))"
   ]
  },
  {
   "cell_type": "code",
   "execution_count": null,
   "metadata": {},
   "outputs": [],
   "source": [
    "mean_dirty=BondPrices.groupby('isin_id').apply(lambda x: np.mean(x.dirty_price))\n",
    "var_dirty=BondPrices.groupby('isin_id').apply(lambda x: np.var(x.dirty_price))"
   ]
  },
  {
   "cell_type": "code",
   "execution_count": null,
   "metadata": {},
   "outputs": [],
   "source": [
    "mean_ai=BondPrices.groupby('isin_id').apply(lambda x: np.mean(x.acc_int))\n",
    "var_ai=BondPrices.groupby('isin_id').apply(lambda x: np.var(x.acc_int))"
   ]
  },
  {
   "cell_type": "code",
   "execution_count": null,
   "metadata": {},
   "outputs": [],
   "source": [
    "num_by_id = (BondPrices.isin_id.value_counts()).sort_index()\n",
    "statistic = pd.DataFrame(num_by_id)"
   ]
  },
  {
   "cell_type": "code",
   "execution_count": null,
   "metadata": {},
   "outputs": [],
   "source": [
    "statistic['var_clean']=var_clean\n",
    "statistic['mean_clean']=mean_clean\n",
    "statistic['var_dirty']=var_dirty\n",
    "statistic['mean_dirty']=mean_dirty\n",
    "statistic['var_ai']=var_ai\n",
    "statistic['mean_ai']=mean_ai\n",
    "statistic"
   ]
  },
  {
   "cell_type": "code",
   "execution_count": null,
   "metadata": {},
   "outputs": [],
   "source": [
    "statistic[statistic['var_clean'].isin([max(var_clean)])]"
   ]
  },
  {
   "cell_type": "code",
   "execution_count": null,
   "metadata": {},
   "outputs": [],
   "source": [
    "max_clean_bond=pd.DataFrame(BondPrices[BondPrices['isin_id'].isin(['GB00BDX8CX86'])])\n",
    "%config InlineBackend.figure_format = 'retina'\n",
    "fig, ax = plt.subplots()\n",
    "_ = ax.set_title (\"Clean price of GB00BDX8CX86\")\n",
    "_ = ax.plot(max_clean_bond['clean_price'], marker='o', markersize=1)\n",
    "_ = ax.set_ylabel(\"Clean price\")\n",
    "_ = ax.set_xlabel('time')"
   ]
  },
  {
   "cell_type": "code",
   "execution_count": null,
   "metadata": {},
   "outputs": [],
   "source": [
    "statistic[statistic['var_dirty'].isin([max(var_dirty)])]"
   ]
  },
  {
   "cell_type": "code",
   "execution_count": null,
   "metadata": {},
   "outputs": [],
   "source": [
    "max_dirty_bond=pd.DataFrame(BondPrices[BondPrices['isin_id'].isin(['GB00B0CNHZ09'])])\n",
    "%config InlineBackend.figure_format = 'retina'\n",
    "fig, ax = plt.subplots()\n",
    "_ = ax.set_title (\"Dirty price of GB00B0CNHZ09\")\n",
    "_ = ax.plot(max_dirty_bond['dirty_price'], marker='o', markersize=1)\n",
    "_ = ax.set_ylabel(\"Dirty price\")\n",
    "_ = ax.set_xlabel('time')"
   ]
  },
  {
   "cell_type": "code",
   "execution_count": null,
   "metadata": {},
   "outputs": [],
   "source": [
    "statistic[statistic['mean_clean'].isin([max(mean_clean)])]"
   ]
  },
  {
   "cell_type": "code",
   "execution_count": null,
   "metadata": {},
   "outputs": [],
   "source": [
    "statistic[statistic['mean_dirty'].isin([max(mean_dirty)])]"
   ]
  },
  {
   "cell_type": "code",
   "execution_count": null,
   "metadata": {},
   "outputs": [],
   "source": [
    "max_dirty_bond=pd.DataFrame(BondPrices[BondPrices['isin_id'].isin(['GB0009081828'])])\n",
    "%config InlineBackend.figure_format = 'retina'\n",
    "fig, ax = plt.subplots()\n",
    "_ = ax.set_title (\"Dirty price of GB0009081828\")\n",
    "_ = ax.plot(max_dirty_bond['dirty_price'], marker='*', markersize=1)\n",
    "_ = ax.set_ylabel(\"Dirty price\")\n",
    "_ = ax.set_xlabel('time')"
   ]
  },
  {
   "cell_type": "code",
   "execution_count": null,
   "metadata": {},
   "outputs": [],
   "source": [
    "def MaxDirtyBond():\n",
    "    return (\"SELECT * FROM bond_prices WHERE isin_id = 'GB0009081828'\")\n",
    "MaxDirtyBond = pd.read_sql_query(MaxDirtyBond(),engine)"
   ]
  },
  {
   "cell_type": "code",
   "execution_count": null,
   "metadata": {},
   "outputs": [],
   "source": [
    "MaxDirtyBond"
   ]
  },
  {
   "cell_type": "code",
   "execution_count": null,
   "metadata": {},
   "outputs": [],
   "source": [
    "MaxDirtyBond.clean_price.describe()"
   ]
  },
  {
   "cell_type": "code",
   "execution_count": null,
   "metadata": {},
   "outputs": [],
   "source": [
    "MaxDirtyBond.dirty_price.describe()"
   ]
  },
  {
   "cell_type": "code",
   "execution_count": null,
   "metadata": {},
   "outputs": [],
   "source": [
    "MaxDirtyBond.index"
   ]
  },
  {
   "cell_type": "code",
   "execution_count": null,
   "metadata": {},
   "outputs": [],
   "source": [
    "MaxDirtyBond['clean_return'] = np.nan\n",
    "MaxDirtyBond['dirty_return'] = np.nan\n",
    "MaxDirtyBond['dirty_SD'] = np.nan\n",
    "MaxDirtyBond['dirty_AVG'] = np.nan\n"
   ]
  },
  {
   "cell_type": "code",
   "execution_count": null,
   "metadata": {},
   "outputs": [],
   "source": [
    "for a in range(1,len(MaxDirtyBond.clean_price)):\n",
    "    MaxDirtyBond.loc[a,'clean_return'] = np.log(MaxDirtyBond.loc[a,'clean_price'])-np.log(MaxDirtyBond.loc[a-1,'clean_price'])\n",
    "    MaxDirtyBond.loc[a,'dirty_return'] = np.log(MaxDirtyBond.loc[a,'dirty_price'])-np.log(MaxDirtyBond.loc[a-1,'dirty_price'])\n",
    "    \n",
    "    if a > 9 :\n",
    "        b = a - 10\n",
    "        MaxDirtyBond.loc[a,'dirty_SD'] = MaxDirtyBond.loc[b:a,'dirty_return'].std()\n",
    "        MaxDirtyBond.loc[a,'dirty_AVG'] = MaxDirtyBond.loc[b:a,'dirty_return'].mean()"
   ]
  },
  {
   "cell_type": "code",
   "execution_count": null,
   "metadata": {},
   "outputs": [],
   "source": [
    "MaxDirtyBond.head(50)"
   ]
  },
  {
   "cell_type": "code",
   "execution_count": null,
   "metadata": {},
   "outputs": [],
   "source": [
    "%config InlineBackend.figure_format = 'retina'\n",
    "fig, ax = plt.subplots()\n",
    "_ = ax.set_title (\"Clean Price Return of GB0009081828\")\n",
    "_ = ax.plot(MaxDirtyBond['clean_return'], marker='o', markersize=1)\n",
    "_ = ax.set_ylabel(\"Clean Price Return\")\n",
    "_ = ax.set_xlabel('Days')"
   ]
  },
  {
   "cell_type": "code",
   "execution_count": null,
   "metadata": {},
   "outputs": [],
   "source": [
    "MaxDirtyBond.clean_return.describe()"
   ]
  },
  {
   "cell_type": "code",
   "execution_count": null,
   "metadata": {},
   "outputs": [],
   "source": [
    "%config InlineBackend.figure_format = 'retina'\n",
    "fig, ax = plt.subplots()\n",
    "_ = ax.set_title (\"Dirty Price Return of GB0009081828\")\n",
    "_ = ax.plot(MaxDirtyBond['dirty_return'], marker='o', markersize=1)\n",
    "_ = ax.set_ylabel(\"Dirty Price Return\")\n",
    "_ = ax.set_xlabel('Days')"
   ]
  },
  {
   "cell_type": "code",
   "execution_count": null,
   "metadata": {},
   "outputs": [],
   "source": [
    "MaxDirtyBond.dirty_return.describe()"
   ]
  },
  {
   "cell_type": "code",
   "execution_count": null,
   "metadata": {},
   "outputs": [],
   "source": []
  },
  {
   "cell_type": "code",
   "execution_count": null,
   "metadata": {},
   "outputs": [],
   "source": []
  }
 ],
 "metadata": {
  "kernelspec": {
   "display_name": "Python 3",
   "language": "python",
   "name": "python3"
  },
  "language_info": {
   "codemirror_mode": {
    "name": "ipython",
    "version": 3
   },
   "file_extension": ".py",
   "mimetype": "text/x-python",
   "name": "python",
   "nbconvert_exporter": "python",
   "pygments_lexer": "ipython3",
   "version": "3.7.3"
  }
 },
 "nbformat": 4,
 "nbformat_minor": 2
}
