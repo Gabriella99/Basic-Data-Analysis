{
 "cells": [
  {
   "cell_type": "code",
   "execution_count": null,
   "metadata": {},
   "outputs": [],
   "source": [
    "import pandas as pd\n",
    "import configparser\n",
    "from sklearn.linear_model import LinearRegression\n",
    "import numpy as np\n",
    "import matplotlib.pyplot as plt\n",
    "import statsmodels.api as sm\n",
    "from sklearn.decomposition import PCA\n",
    "from sklearn.model_selection import train_test_split\n",
    "from sklearn.linear_model import LogisticRegression\n",
    "default_seed = 1"
   ]
  },
  {
   "cell_type": "markdown",
   "metadata": {},
   "source": [
    "Because the housing data was ‘.csv’ format, the code to read the csv was used to obtain the database. "
   ]
  },
  {
   "cell_type": "code",
   "execution_count": null,
   "metadata": {},
   "outputs": [],
   "source": [
    "HouseData = pd.read_csv('/Users/yangruiling/Desktop/iftbigdatacoursework2019/RuilingYang/csv/train.csv')"
   ]
  },
  {
   "cell_type": "markdown",
   "metadata": {},
   "source": [
    "Then for checking and learning the whole data, I used the head function."
   ]
  },
  {
   "cell_type": "code",
   "execution_count": null,
   "metadata": {},
   "outputs": [],
   "source": [
    "HouseData.head()"
   ]
  },
  {
   "cell_type": "markdown",
   "metadata": {},
   "source": [
    "After finding that there are too many columns and I cannot know all about the feature label, the ‘iloc’ code was used to view every labels for each columns. Through using the ‘info’ code, we also can be clear about the data type for each columns."
   ]
  },
  {
   "cell_type": "code",
   "execution_count": null,
   "metadata": {},
   "outputs": [],
   "source": [
    "HouseData.iloc[:,15:30]"
   ]
  },
  {
   "cell_type": "code",
   "execution_count": null,
   "metadata": {},
   "outputs": [],
   "source": [
    "len(HouseData)"
   ]
  },
  {
   "cell_type": "markdown",
   "metadata": {},
   "source": [
    "Through using the ‘info’ code, we also can be clear about the data type for each columns."
   ]
  },
  {
   "cell_type": "code",
   "execution_count": null,
   "metadata": {},
   "outputs": [],
   "source": [
    "HouseData.info()"
   ]
  },
  {
   "cell_type": "markdown",
   "metadata": {},
   "source": [
    "In order to analysis what features of house can affect the price of the house, the correlation matrix of price and other features was obtained by coding, and sorted the results in descending."
   ]
  },
  {
   "cell_type": "code",
   "execution_count": null,
   "metadata": {},
   "outputs": [],
   "source": [
    "corr_matrix = HouseData.corr()\n",
    "corr_matrix[\"price_doc\"].sort_values(ascending=False)"
   ]
  },
  {
   "cell_type": "markdown",
   "metadata": {},
   "source": [
    "After processing the correlation matrix, we can find that number of rooms and full square are the most positively correlated to price. Therefore, I plot the scatter figure separately for these two features"
   ]
  },
  {
   "cell_type": "code",
   "execution_count": null,
   "metadata": {},
   "outputs": [],
   "source": [
    "plt.scatter(HouseData.num_room,HouseData.price_doc)"
   ]
  },
  {
   "cell_type": "markdown",
   "metadata": {},
   "source": [
    "According to this results, for number of rooms and price, the relationship was more like classification than linear regression. "
   ]
  },
  {
   "cell_type": "code",
   "execution_count": null,
   "metadata": {},
   "outputs": [],
   "source": [
    "plt.scatter(HouseData.full_sq,HouseData.price_doc)"
   ]
  },
  {
   "cell_type": "markdown",
   "metadata": {},
   "source": [
    "For full square and price, the extreme outliers make the relationship very fuzzy."
   ]
  },
  {
   "cell_type": "markdown",
   "metadata": {},
   "source": [
    "Then I want to calculate the covariance of number of rooms and price as well as the covariance of full square and price."
   ]
  },
  {
   "cell_type": "code",
   "execution_count": null,
   "metadata": {},
   "outputs": [],
   "source": [
    "HouseData[['price_doc','num_room' ]].cov()"
   ]
  },
  {
   "cell_type": "code",
   "execution_count": null,
   "metadata": {},
   "outputs": [],
   "source": [
    "HouseData[['price_doc', 'full_sq']].cov()"
   ]
  },
  {
   "cell_type": "markdown",
   "metadata": {},
   "source": [
    "To measure the relationship deeply, I set the full square and number of rooms as the independent variables: x1 and x2 separately, and I set the price as the dependent variable. "
   ]
  },
  {
   "cell_type": "code",
   "execution_count": null,
   "metadata": {},
   "outputs": [],
   "source": [
    "x1= 'full_sq'\n",
    "x2= 'num_room'\n",
    "y= 'price_doc'"
   ]
  },
  {
   "cell_type": "markdown",
   "metadata": {},
   "source": [
    "I create two Linear Regression Model to test the possibility that how the independent variable explain the dependent variable."
   ]
  },
  {
   "cell_type": "code",
   "execution_count": null,
   "metadata": {},
   "outputs": [],
   "source": [
    "parameters = HouseData[[x1, y]]\n",
    "Linearmodel1 = LinearRegression()\n",
    "Linearmodel1.fit(parameters[x1].values.reshape(-1, 1), parameters[y])"
   ]
  },
  {
   "cell_type": "code",
   "execution_count": null,
   "metadata": {},
   "outputs": [],
   "source": [
    "alpha1 =Linearmodel1.intercept_\n",
    "beta1 =Linearmodel1.coef_"
   ]
  },
  {
   "cell_type": "code",
   "execution_count": null,
   "metadata": {},
   "outputs": [],
   "source": [
    "alpha1"
   ]
  },
  {
   "cell_type": "code",
   "execution_count": null,
   "metadata": {},
   "outputs": [],
   "source": [
    "beta1"
   ]
  },
  {
   "cell_type": "markdown",
   "metadata": {},
   "source": [
    "Because of difference of value range, the alpha and beta were big."
   ]
  },
  {
   "cell_type": "code",
   "execution_count": null,
   "metadata": {},
   "outputs": [],
   "source": [
    "Linearmodel1.score(parameters[x1].values.reshape(-1, 1), parameters[y])"
   ]
  },
  {
   "cell_type": "markdown",
   "metadata": {},
   "source": [
    "This score shows that full square cannot explain the price well. Considering about the range between full square and price, I took log for the price and create a new model to estimate."
   ]
  },
  {
   "cell_type": "code",
   "execution_count": null,
   "metadata": {},
   "outputs": [],
   "source": [
    "Linearmodel1_1 = LinearRegression()\n",
    "Linearmodel1_1.fit(parameters[x1].values.reshape(-1, 1), np.log(parameters[y]))"
   ]
  },
  {
   "cell_type": "code",
   "execution_count": null,
   "metadata": {},
   "outputs": [],
   "source": [
    "alpha1_1=Linearmodel1_1.intercept_\n",
    "beta1_1=Linearmodel1_1.coef_"
   ]
  },
  {
   "cell_type": "code",
   "execution_count": null,
   "metadata": {},
   "outputs": [],
   "source": [
    "alpha1_1"
   ]
  },
  {
   "cell_type": "code",
   "execution_count": null,
   "metadata": {},
   "outputs": [],
   "source": [
    "beta1_1"
   ]
  },
  {
   "cell_type": "code",
   "execution_count": null,
   "metadata": {},
   "outputs": [],
   "source": [
    "Linearmodel1_1.score(parameters[x1].values.reshape(-1, 1), np.log(parameters[y]))"
   ]
  },
  {
   "cell_type": "markdown",
   "metadata": {},
   "source": [
    "This time, the beta and alpha is small, but the score of the model is much lower, which means the problem of low score is not because the range difference between price and full square. According to the scatter figure following, the outliers of price are significant. Therefore I try to remove the extreme value of price and plot the scatter between full square and price."
   ]
  },
  {
   "cell_type": "code",
   "execution_count": null,
   "metadata": {},
   "outputs": [],
   "source": [
    "plt.scatter(HouseData[x1], np.log(HouseData[y]), marker='o', color='', edgecolors='k')"
   ]
  },
  {
   "cell_type": "code",
   "execution_count": null,
   "metadata": {},
   "outputs": [],
   "source": [
    "HouseData = HouseData[(HouseData[x1] < 300)]\n",
    "plt.scatter(HouseData[x1], HouseData[y], marker='o', color='', edgecolors='k')"
   ]
  },
  {
   "cell_type": "markdown",
   "metadata": {},
   "source": [
    "Then I creat a new model without outliers to make the regression."
   ]
  },
  {
   "cell_type": "code",
   "execution_count": null,
   "metadata": {},
   "outputs": [],
   "source": [
    "HouseDataDrop=HouseData[(HouseData[x1] < 300)]"
   ]
  },
  {
   "cell_type": "code",
   "execution_count": null,
   "metadata": {},
   "outputs": [],
   "source": [
    "parameters1_2 = HouseDataDrop[[x1, y]]\n",
    "Linearmodel1_2 = LinearRegression()\n",
    "Linearmodel1_2.fit(parameters1_2[x1].values.reshape(-1, 1), parameters1_2[y])\n",
    "alpha1_2=Linearmodel1_2.intercept_\n",
    "beta1_2=Linearmodel1_2.coef_"
   ]
  },
  {
   "cell_type": "code",
   "execution_count": null,
   "metadata": {},
   "outputs": [],
   "source": [
    "print('alpha1_2 = ',alpha1_2, '\\n', 'beta1_2 = ',beta1_2)"
   ]
  },
  {
   "cell_type": "code",
   "execution_count": null,
   "metadata": {},
   "outputs": [],
   "source": [
    "Linearmodel1_2.score(parameters1_2[x1].values.reshape(-1, 1), parameters1_2[y])"
   ]
  },
  {
   "cell_type": "markdown",
   "metadata": {},
   "source": [
    "This score is higher than before, thus the outliers indeed affect the results of regression."
   ]
  },
  {
   "cell_type": "code",
   "execution_count": null,
   "metadata": {},
   "outputs": [],
   "source": [
    "MeanSSR = np.mean(parameters1_2[y]-model.predict(parameters[x1].values.reshape(-1, 1)))\n",
    "MeanSSR"
   ]
  },
  {
   "cell_type": "markdown",
   "metadata": {},
   "source": [
    "Then we start another estimation of the linear regression model from number of rooms and price."
   ]
  },
  {
   "cell_type": "code",
   "execution_count": null,
   "metadata": {},
   "outputs": [],
   "source": [
    "parameters = HouseData[[x2, y]].dropna()\n",
    "Linearmodel2 = LinearRegression()\n",
    "Linearmodel2.fit(parameters[x2].values.reshape(-1, 1), parameters[y])"
   ]
  },
  {
   "cell_type": "code",
   "execution_count": null,
   "metadata": {},
   "outputs": [],
   "source": [
    "alpha3 =Linearmodel2.intercept_\n",
    "beta3 =Linearmodel2.coef_"
   ]
  },
  {
   "cell_type": "code",
   "execution_count": null,
   "metadata": {},
   "outputs": [],
   "source": [
    "alpha3"
   ]
  },
  {
   "cell_type": "code",
   "execution_count": null,
   "metadata": {},
   "outputs": [],
   "source": [
    "beta3"
   ]
  },
  {
   "cell_type": "code",
   "execution_count": null,
   "metadata": {},
   "outputs": [],
   "source": [
    "Linearmodel2.score(parameters[x2].values.reshape(-1, 1), parameters[y])"
   ]
  },
  {
   "cell_type": "markdown",
   "metadata": {},
   "source": [
    "In this model, the beta and alpha is still very high because of the range gap. And the score of this mode is 0.2268964974, which is also not good and means it cannot explain the dependent variable."
   ]
  },
  {
   "cell_type": "code",
   "execution_count": null,
   "metadata": {},
   "outputs": [],
   "source": [
    "plt.scatter(parameters[x2], parameters[y],marker='*', color='r')"
   ]
  },
  {
   "cell_type": "markdown",
   "metadata": {},
   "source": [
    "Through the results above, we can see that one dimensional regression is not enough to explain the price. Therefore, according to the correlation results above and the life experience, I select twelve feature variables as the independent variables to build the multiple linear regression model with price. "
   ]
  },
  {
   "cell_type": "markdown",
   "metadata": {},
   "source": [
    "Because of NA variable, I use ‘loc’ and ‘dropna’ code to process the data to a new database."
   ]
  },
  {
   "cell_type": "code",
   "execution_count": null,
   "metadata": {},
   "outputs": [],
   "source": [
    "HousePrice= HouseData.loc[:,('num_room','full_sq','area_m','green_zone_part','healthcare_centers_raion','indust_part','children_preschool','shopping_centers_raion','sport_count_5000','sadovoe_km','kremlin_km','zd_vokzaly_avto_km','price_doc')].dropna(how='any')"
   ]
  },
  {
   "cell_type": "code",
   "execution_count": null,
   "metadata": {},
   "outputs": [],
   "source": [
    "HousePrice"
   ]
  },
  {
   "cell_type": "code",
   "execution_count": null,
   "metadata": {},
   "outputs": [],
   "source": [
    "x=HousePrice[['num_room','full_sq','area_m','green_zone_part','healthcare_centers_raion','indust_part','children_preschool','shopping_centers_raion','sport_count_5000','sadovoe_km','kremlin_km','zd_vokzaly_avto_km']]\n",
    "y=HousePrice['price_doc']"
   ]
  },
  {
   "cell_type": "code",
   "execution_count": null,
   "metadata": {},
   "outputs": [],
   "source": [
    "MultiRegress=LinearRegression()\n",
    "MultiRegress.fit(x,y)"
   ]
  },
  {
   "cell_type": "code",
   "execution_count": null,
   "metadata": {},
   "outputs": [],
   "source": [
    "Mulalpha=MultiRegress.intercept_\n",
    "Mulbeta=MultiRegress.coef_"
   ]
  },
  {
   "cell_type": "code",
   "execution_count": null,
   "metadata": {},
   "outputs": [],
   "source": [
    "Mulalpha"
   ]
  },
  {
   "cell_type": "code",
   "execution_count": null,
   "metadata": {},
   "outputs": [],
   "source": [
    "Mulbeta"
   ]
  },
  {
   "cell_type": "code",
   "execution_count": null,
   "metadata": {},
   "outputs": [],
   "source": [
    "MultiRegress.score(x,y)"
   ]
  },
  {
   "cell_type": "markdown",
   "metadata": {},
   "source": [
    "In this model, the score is 0.503817423, which is much higher than before. However, this result is still not very good. Therefore, through summary the problem above and possible problems, I decide to classify the price into two levels by comparing with the mean of price, and this processing can eliminate the problem of outliers. By classifying the price into two groups, we only consider about how the inputs makes the price of house high or low."
   ]
  },
  {
   "cell_type": "code",
   "execution_count": null,
   "metadata": {},
   "outputs": [],
   "source": [
    "HouseData.price_doc.describe()"
   ]
  },
  {
   "cell_type": "code",
   "execution_count": null,
   "metadata": {},
   "outputs": [],
   "source": [
    "HouseData['PriceClass']=HouseData.price_doc> np.mean(HouseData.price_doc)"
   ]
  },
  {
   "cell_type": "code",
   "execution_count": null,
   "metadata": {},
   "outputs": [],
   "source": [
    "HouseData['PriceClass']"
   ]
  },
  {
   "cell_type": "code",
   "execution_count": null,
   "metadata": {},
   "outputs": [],
   "source": [
    "HouseData"
   ]
  },
  {
   "cell_type": "code",
   "execution_count": null,
   "metadata": {},
   "outputs": [],
   "source": [
    "HousePrice1= HouseData.loc[:,('num_room','full_sq','area_m','green_zone_part','healthcare_centers_raion','indust_part','children_preschool','shopping_centers_raion','sport_count_5000','sadovoe_km','kremlin_km','zd_vokzaly_avto_km','PriceClass')].dropna(how='any')"
   ]
  },
  {
   "cell_type": "code",
   "execution_count": null,
   "metadata": {},
   "outputs": [],
   "source": [
    "x=HousePrice1[['num_room','full_sq','area_m','green_zone_part','healthcare_centers_raion','indust_part','children_preschool','shopping_centers_raion','sport_count_5000','sadovoe_km','kremlin_km','zd_vokzaly_avto_km']]\n",
    "y=HousePrice1['PriceClass']"
   ]
  },
  {
   "cell_type": "markdown",
   "metadata": {},
   "source": [
    "Moreover, considering about the possibility of similar part among the independent variable, I use the principal component analysis (PCA) to remove the correlation among the independent variables."
   ]
  },
  {
   "cell_type": "code",
   "execution_count": null,
   "metadata": {},
   "outputs": [],
   "source": [
    "noise_var = []\n",
    "exp_ratio = []\n",
    "score=[]\n",
    "for i in range(1, 13):\n",
    "    PCAmodel = PCA(n_components=i)\n",
    "    PCAmodel.fit(x, y)\n",
    "    noise_var.append(PCAmodel.noise_variance_)\n",
    "    score.append(PCAmodel.score(x,y))\n"
   ]
  },
  {
   "cell_type": "markdown",
   "metadata": {},
   "source": [
    "After completing the for loop, I drawn the graphics of estimated noisy variance and the score for PCA model to find the best number of components"
   ]
  },
  {
   "cell_type": "code",
   "execution_count": null,
   "metadata": {},
   "outputs": [],
   "source": [
    "%config InlineBackend.figure_format = 'retina'\n",
    "fig, ax = plt.subplots()\n",
    "_ = ax.set_title (\"Estimated Noice variance for PCA Model\")\n",
    "_ = ax.plot(range(1, 13), noise_var,color='r')\n",
    "_ = ax.set_ylabel(\"estimated noice variance\")\n",
    "_ = ax.set_xlabel('number of components')"
   ]
  },
  {
   "cell_type": "code",
   "execution_count": null,
   "metadata": {},
   "outputs": [],
   "source": [
    "%config InlineBackend.figure_format = 'retina'\n",
    "fig, ax = plt.subplots()\n",
    "_ = ax.set_title (\"The score for PCA Model\")\n",
    "_ = ax.plot(range(1, 13), score,color='g',marker='o')\n",
    "_ = ax.set_ylabel(\"estimated noice variance\")\n",
    "_ = ax.set_xlabel('number of components')"
   ]
  },
  {
   "cell_type": "code",
   "execution_count": null,
   "metadata": {},
   "outputs": [],
   "source": [
    "PCRModel = PCA(n_components= 2)\n",
    "PCRModel.fit(x, y)\n",
    "x=PCRModel.transform(x)"
   ]
  },
  {
   "cell_type": "code",
   "execution_count": null,
   "metadata": {},
   "outputs": [],
   "source": [
    "LogicRegress=LogisticRegression()\n",
    "LogicRegress.fit(x,y)\n",
    "LogicRegress.score(x,y)"
   ]
  },
  {
   "cell_type": "markdown",
   "metadata": {},
   "source": [
    "In these two figures, we can obtain that two components are the best choice for this regression model. Then I applied this results to make a new model and calculated the score of this model. The score is 0.575338533, which is higher than all the regression models above."
   ]
  },
  {
   "cell_type": "markdown",
   "metadata": {},
   "source": [
    "In the conclusion, although the result is improved, this score is still not very good. We might need to try other regression approaches or other independent variables to explain the price."
   ]
  }
 ],
 "metadata": {
  "kernelspec": {
   "display_name": "Python 3",
   "language": "python",
   "name": "python3"
  },
  "language_info": {
   "codemirror_mode": {
    "name": "ipython",
    "version": 3
   },
   "file_extension": ".py",
   "mimetype": "text/x-python",
   "name": "python",
   "nbconvert_exporter": "python",
   "pygments_lexer": "ipython3",
   "version": "3.7.3"
  }
 },
 "nbformat": 4,
 "nbformat_minor": 2
}
